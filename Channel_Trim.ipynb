{
  "nbformat": 4,
  "nbformat_minor": 0,
  "metadata": {
    "colab": {
      "provenance": []
    },
    "kernelspec": {
      "name": "python3",
      "display_name": "Python 3"
    },
    "language_info": {
      "name": "python"
    }
  },
  "cells": [
    {
      "cell_type": "code",
      "source": [
        "import pandas as pd\n",
        "import numpy as np\n",
        "import matplotlib.pyplot as plt\n",
        "import numpy as np\n",
        "from scipy.signal import savgol_filter\n",
        "\n",
        "# --- Load Data ---\n",
        "\n",
        "try:\n",
        "    # We skip the first two rows which contain header info we don't need for the geometry\n",
        "    full_df = pd.read_excel('/content/drive/MyDrive/Scientific ML Project/Mid-Term Project/River Dimension Corrected.xlsx', header=2)\n",
        "except FileNotFoundError:\n",
        "    print(\"Error: 'River Dimension Corrected.xlsx' not found.\")\n",
        "    print(\"Please make sure the CSV file is in the same folder as this script.\")\n",
        "    exit()\n",
        "\n",
        "# The first 5 columns are stationing data, which we can ignore for the cross-sections.\n",
        "cs_data_df = full_df.iloc[:, 5:]\n",
        "\n",
        "#print(cs_data_df.head(10))\n",
        "#print(len(cs_data_df.columns))\n",
        "\n",
        "# Store each cross-section's data in a list of DataFrames\n",
        "cross_sections = []\n",
        "# The data is in pairs of columns (x, y, empty, x, y, empty...). We iterate in steps of 3.\n",
        "for i in range(0, len(cs_data_df.columns), 3):\n",
        "    # Get the column names for the current X and Y pair\n",
        "    x_col = cs_data_df.columns[i]\n",
        "    y_col = cs_data_df.columns[i+1]\n",
        "\n",
        "    if cs_data_df[x_col].notna().any():\n",
        "        # Create a temporary dataframe for this cross-section\n",
        "        # and drop rows with missing data (since point counts are inconsistent)\n",
        "        cs_df = cs_data_df[[x_col, y_col]].dropna()\n",
        "\n",
        "        # Rename columns to a consistent 'x' and 'y' for easier processing\n",
        "        cs_df.columns = ['x', 'y']\n",
        "        cross_sections.append(cs_df)\n"
      ],
      "metadata": {
        "id": "192tgELqhzti"
      },
      "execution_count": null,
      "outputs": []
    },
    {
      "cell_type": "markdown",
      "source": [
        "#Trim Cross section"
      ],
      "metadata": {
        "id": "YdIRhhJzofG1"
      }
    },
    {
      "cell_type": "code",
      "source": [
        "import numpy as np\n",
        "from scipy.signal import savgol_filter\n",
        "\n",
        "def auto_trim(cs_df, win=5, poly=2,      # Savitzky–Golay 平滑參數（視資料稠密度調整）\n",
        "              rise_threshold=0.5,  # 必要的“回升量”門檻（相對於最深點的 y 增量）\n",
        "              flat_slope=0.001,     # 坡度|dy/dx|回到多小，視為“轉平”\n",
        "              require_flat=True,   # 粗切點是否強制滿足“轉平”條件\n",
        "              prefer_cross=True):  # 尋找等高切點時，優先“第一次跨越等高線”\n",
        "\n",
        "    # Data limit: if too short then do not trim\n",
        "    df = cs_df.sort_values('x').reset_index(drop=True).copy()\n",
        "    n = len(df)\n",
        "    if n < 5:\n",
        "        return df.copy()\n",
        "\n",
        "    # Smoothen\n",
        "    w = min(win, n - (1 - n % 2)) # odd number for Savitzky-Golay\n",
        "    if w % 2 == 0: w -= 1      # if even number minus one to be odd number\n",
        "    w = max(w, 5)             # the least window should be 5 to not be too sensitive\n",
        "    y_s = savgol_filter(df['y'].values, window_length=w, polyorder=min(poly, 3))  # smoothen elevation\n",
        "    dy  = np.gradient(y_s, df['x'].values)  # the slope to find the river bank\n",
        "\n",
        "    # Deepest Point\n",
        "    i0 = int(np.argmin(y_s)) # index # of lowest point\n",
        "    y0 = y_s[i0]       # the rise should be: rise = y - y0\n",
        "\n",
        "    # The location point that meet both a certain height and certain slope for river bank\n",
        "    def find_side(i_start, i_end, step):\n",
        "        i_sel = i_start\n",
        "        for i in range(i_start, i_end, step):\n",
        "            cond_rise = (y_s[i] - y0) >= rise_threshold             # force the channel height larger than threshold height\n",
        "            cond_flat = (abs(dy[i]) <= flat_slope) if require_flat else True\n",
        "            if cond_rise and cond_flat:\n",
        "                i_sel = i\n",
        "                break\n",
        "        return i_sel\n",
        "\n",
        "    iL = find_side(i0, -1, -1)  # left from the deepest point i0, i0-1,..., 0\n",
        "    iR = find_side(i0, n,  +1) # right from the deepest point i0, i0+1, n-1\n",
        "    if iL == i0 and iR == i0:\n",
        "        return df\n",
        "\n",
        "    # Determine the channel height\n",
        "    rise_L = max(0.0, y_s[iL] - y0)\n",
        "    rise_R = max(0.0, y_s[iR] - y0)\n",
        "    rise_common = max(0.0, min(rise_L, rise_R))\n",
        "    y_cut = y0 + rise_common # the common elevation should be determine for cutting the x location\n",
        "\n",
        "    # index number for the elevation of y_cut (channel height)\n",
        "    def find_equal_height_index(side='L'):\n",
        "        if side == 'L':\n",
        "            xs = range(i0, -1, -1)\n",
        "        else:\n",
        "            xs = range(i0, n, +1)\n",
        "        prev_i = i0\n",
        "        for i in xs:\n",
        "            if prefer_cross:\n",
        "                # find the first index of the elevation larger than y_cut\n",
        "                if (y_s[prev_i] <= y_cut and y_s[i] >= y_cut) or (y_s[prev_i] >= y_cut and y_s[i] <= y_cut):\n",
        "                    return prev_i if abs(y_s[prev_i]-y_cut)<=abs(y_s[i]-y_cut) else i\n",
        "            prev_i = i\n",
        "\n",
        "        # if not exceed, than choose the point nearest to the y_cut point\n",
        "        if side == 'L':\n",
        "            return np.argmin(np.abs(y_s[:i0+1]-y_cut)) # left to deepent point minus the y_cut determine so that the smaller it get, the closer to the point\n",
        "        else:\n",
        "            return np.argmin(np.abs(y_s[i0:]-y_cut))+i0 # for right side\n",
        "\n",
        "    iL2 = find_equal_height_index('L')\n",
        "    iR2 = find_equal_height_index('R')\n",
        "    iL2 = max(0, min(iL2, i0))\n",
        "    iR2 = min(n-1, max(iR2, i0))\n",
        "\n",
        "    channel_df = df.iloc[iL2:iR2+1].copy()\n",
        "\n",
        "    # 把重要資訊也一起 return，方便畫圖時標註\n",
        "    return channel_df, {\n",
        "        \"iL\": iL2,\n",
        "        \"iR\": iR2,\n",
        "        \"i0\": i0,\n",
        "        \"y_cut\": y_cut,\n",
        "        \"y_s\": y_s\n",
        "    }\n",
        "\n",
        "\n",
        "\n"
      ],
      "metadata": {
        "id": "nz7mIQ3KoeFf"
      },
      "execution_count": null,
      "outputs": []
    },
    {
      "cell_type": "code",
      "source": [
        "def plot_channel(cs_df, channel_df, info, title='Equal height trim', save_path=None):\n",
        "    plt.figure(figsize=(10,6))\n",
        "    plt.plot(cs_df['x'], cs_df['y'], 'k--', alpha=0.4, label='Original')\n",
        "    if not channel_df.empty:\n",
        "        plt.plot(channel_df['x'], channel_df['y'], 'r-', marker='o', label='Channel-only')\n",
        "\n",
        "    # Draw reference lines and points\n",
        "    plt.axhline(y=info['y_cut'], color='b', linestyle=':', label=f'y_cut = {info[\"y_cut\"]:.2f}')\n",
        "    plt.axvline(x=cs_df['x'][info['iL']], color='g', linestyle='--', label='Left bank')\n",
        "    plt.axvline(x=cs_df['x'][info['iR']], color='g', linestyle='--', label='Right bank')\n",
        "    plt.scatter(cs_df['x'][info['i0']], info['y_s'][info['i0']], c='purple', s=80, label='Thalweg')\n",
        "\n",
        "    plt.title(title)\n",
        "    plt.xlabel('Cross-stream Distance (m)')\n",
        "    plt.ylabel('Elevation (m)')\n",
        "    plt.grid(True)\n",
        "    plt.legend()"
      ],
      "metadata": {
        "id": "H9g1SmO_oW-O"
      },
      "execution_count": null,
      "outputs": []
    },
    {
      "cell_type": "code",
      "source": [
        "\n",
        "def view_channel_trim_equal_height(cs_df, channel_df, info, title='Equal height trim', save_path=None):\n",
        "    plt.figure(figsize=(10,6))\n",
        "    plt.plot(cs_df['x'], cs_df['y'], 'k--', alpha=0.4, label='Original')\n",
        "    if not channel_df.empty:\n",
        "        plt.plot(channel_df['x'], channel_df['y'], 'r-', marker='o', label='Channel-only')\n",
        "\n",
        "    # Draw reference lines and points\n",
        "    plt.axhline(y=info['y_cut'], color='b', linestyle=':', label=f'y_cut = {info[\"y_cut\"]:.2f}')\n",
        "    plt.axvline(x=cs_df['x'][info['iL']], color='g', linestyle='--', label='Left bank')\n",
        "    plt.axvline(x=cs_df['x'][info['iR']], color='g', linestyle='--', label='Right bank')\n",
        "    plt.scatter(cs_df['x'][info['i0']], info['y_s'][info['i0']], c='purple', s=80, label='Thalweg')\n",
        "\n",
        "    plt.title(title)\n",
        "    plt.xlabel('Cross-stream Distance (m)')\n",
        "    plt.ylabel('Elevation (m)')\n",
        "    plt.grid(True)\n",
        "    plt.legend()\n",
        "\n",
        "    if save_path is not None:\n",
        "        plt.savefig(save_path, dpi=300, bbox_inches='tight')\n",
        "        print(f\"Figure saved: {save_path}\")\n",
        "\n",
        "    plt.close()  # prevent displaying all figures when looping\n"
      ],
      "metadata": {
        "id": "HuPtNEXdWiuL"
      },
      "execution_count": null,
      "outputs": []
    },
    {
      "cell_type": "code",
      "source": [
        "cs = cross_sections[11]\n",
        "\n",
        "# 先擷取\n",
        "channel_eq, info = auto_trim(\n",
        "    cs,\n",
        "    win=5, poly=2,\n",
        "    rise_threshold=0.5,\n",
        "    flat_slope=0.02,\n",
        "    require_flat=True,\n",
        "    prefer_cross=True\n",
        ")\n",
        "print(channel_eq)\n",
        "\n",
        "# 再畫圖\n",
        "plot_channel(cs, channel_eq, info, title='Equal height slope-break trim')\n"
      ],
      "metadata": {
        "colab": {
          "base_uri": "https://localhost:8080/",
          "height": 804
        },
        "id": "dMMl8ys4ZziE",
        "outputId": "703bbbae-f30d-4cb9-c746-f50991d804da"
      },
      "execution_count": null,
      "outputs": [
        {
          "output_type": "stream",
          "name": "stdout",
          "text": [
            "             x           y\n",
            "94   516.84936  158.474664\n",
            "95   519.16584  157.301184\n",
            "96   520.62888  156.868368\n",
            "97   650.22984  156.868368\n",
            "98   651.81480  157.121352\n",
            "99   654.34464  157.496256\n",
            "100  658.42896  158.334456\n",
            "101  661.01976  158.627064\n",
            "102  665.07360  158.864808\n",
            "103  665.31744  158.878463\n",
            "104  671.71824  159.236664\n",
            "105  671.80968  159.239712\n"
          ]
        },
        {
          "output_type": "display_data",
          "data": {
            "text/plain": [
              "<Figure size 1000x600 with 1 Axes>"
            ],
            "image/png": "[encoded data removed]"
          },
          "metadata": {}
        }
      ]
    },
    {
      "cell_type": "code",
      "source": [
        "def zero_channel_coords(channel_df):\n",
        "    \"\"\"\n",
        "    對剖面資料進行座標歸零處理：\n",
        "    - x_zeroed：減去最小 x\n",
        "    - y_zeroed：減去最小 y\n",
        "    \"\"\"\n",
        "    x_min = channel_df['x'].min()\n",
        "    y_min = channel_df['y'].min()\n",
        "\n",
        "    channel_df = channel_df.copy()\n",
        "    channel_df['x_zeroed'] = channel_df['x'] - x_min\n",
        "    channel_df['y_zeroed'] = channel_df['y'] - y_min\n",
        "\n",
        "    return channel_df\n"
      ],
      "metadata": {
        "id": "gGb7JPIDjAJ7"
      },
      "execution_count": null,
      "outputs": []
    },
    {
      "cell_type": "code",
      "source": [
        "from google.colab import drive\n",
        "drive.mount('/content/drive')\n"
      ],
      "metadata": {
        "colab": {
          "base_uri": "https://localhost:8080/"
        },
        "id": "InrAtufsmY1J",
        "outputId": "458a864b-fa71-447e-83c4-f8c3efc53290"
      },
      "execution_count": null,
      "outputs": [
        {
          "output_type": "stream",
          "name": "stdout",
          "text": [
            "Drive already mounted at /content/drive; to attempt to forcibly remount, call drive.mount(\"/content/drive\", force_remount=True).\n"
          ]
        }
      ]
    },
    {
      "cell_type": "code",
      "source": [
        "save_dir = '/content/drive/MyDrive/Scientific ML Project/Mid-Term Project/channel_profiles'\n",
        "for idx, cs in enumerate(cross_sections):\n",
        "    trimmed, info = auto_trim(cs,\n",
        "                              win=5, poly=2,\n",
        "                              rise_threshold=0.5,\n",
        "                              flat_slope=0.02,\n",
        "                              require_flat=True,\n",
        "                              prefer_cross=True)\n",
        "    zeroed = zero_channel_coords(trimmed)\n",
        "    filename = f'cs_{idx+1:02d}_trimmed_zeroed.csv'\n",
        "    zeroed.to_csv(f'{save_dir}/{filename}', index=False)\n",
        "\n",
        "    print(f\"Channel {idx+1} output {filename}\")\n"
      ],
      "metadata": {
        "colab": {
          "base_uri": "https://localhost:8080/"
        },
        "id": "VYk5QCYIjAMw",
        "outputId": "6a4fd881-283a-4a12-eeb2-daadaa538c59"
      },
      "execution_count": null,
      "outputs": [
        {
          "output_type": "stream",
          "name": "stdout",
          "text": [
            "Channel 1 output cs_01_trimmed_zeroed.csv\n",
            "Channel 2 output cs_02_trimmed_zeroed.csv\n",
            "Channel 3 output cs_03_trimmed_zeroed.csv\n",
            "Channel 4 output cs_04_trimmed_zeroed.csv\n",
            "Channel 5 output cs_05_trimmed_zeroed.csv\n",
            "Channel 6 output cs_06_trimmed_zeroed.csv\n",
            "Channel 7 output cs_07_trimmed_zeroed.csv\n",
            "Channel 8 output cs_08_trimmed_zeroed.csv\n",
            "Channel 9 output cs_09_trimmed_zeroed.csv\n",
            "Channel 10 output cs_10_trimmed_zeroed.csv\n",
            "Channel 11 output cs_11_trimmed_zeroed.csv\n",
            "Channel 12 output cs_12_trimmed_zeroed.csv\n",
            "Channel 13 output cs_13_trimmed_zeroed.csv\n"
          ]
        }
      ]
    },
    {
      "cell_type": "code",
      "source": [
        "from google.colab import drive\n",
        "import os\n",
        "\n",
        "drive.mount('/content/drive')\n",
        "\n",
        "save_dir = '/content/drive/MyDrive/Scientific ML Project/Mid-Term Project/channel_profiles'\n",
        "os.makedirs(save_dir, exist_ok=True)\n",
        "\n",
        "# Loop through all cross sections\n",
        "for idx, cs in enumerate(cross_sections):\n",
        "    # 1. Auto trim to find channel portion\n",
        "    channel_eq, info = auto_trim(\n",
        "        cs,\n",
        "        win=5, poly=2,\n",
        "        rise_threshold=0.5,\n",
        "        flat_slope=0.02,\n",
        "        require_flat=True,\n",
        "        prefer_cross=True\n",
        "    )\n",
        "\n",
        "    # png\n",
        "    fig_filename = f'cs_{idx+1:02d}_trimmed_plot.png'\n",
        "    fig_path = os.path.join(save_dir, fig_filename)\n",
        "\n",
        "    # save\n",
        "    view_channel_trim_equal_height(cs, channel_eq, info,\n",
        "                                   title=f'Cross Section {idx+1}',\n",
        "                                   save_path=fig_path)\n",
        "\n",
        "    print(f\"Saved figure for cross section {idx+1}: {fig_path}\")\n"
      ],
      "metadata": {
        "colab": {
          "base_uri": "https://localhost:8080/"
        },
        "id": "tw_GBxGEjAP1",
        "outputId": "d3be04eb-2745-40da-f572-6450944ada96"
      },
      "execution_count": null,
      "outputs": [
        {
          "output_type": "stream",
          "name": "stdout",
          "text": [
            "Drive already mounted at /content/drive; to attempt to forcibly remount, call drive.mount(\"/content/drive\", force_remount=True).\n",
            "Figure saved: /content/drive/MyDrive/Scientific ML Project/Mid-Term Project/channel_profiles/cs_01_trimmed_plot.png\n",
            "Saved figure for cross section 1: /content/drive/MyDrive/Scientific ML Project/Mid-Term Project/channel_profiles/cs_01_trimmed_plot.png\n",
            "Figure saved: /content/drive/MyDrive/Scientific ML Project/Mid-Term Project/channel_profiles/cs_02_trimmed_plot.png\n",
            "Saved figure for cross section 2: /content/drive/MyDrive/Scientific ML Project/Mid-Term Project/channel_profiles/cs_02_trimmed_plot.png\n",
            "Figure saved: /content/drive/MyDrive/Scientific ML Project/Mid-Term Project/channel_profiles/cs_03_trimmed_plot.png\n",
            "Saved figure for cross section 3: /content/drive/MyDrive/Scientific ML Project/Mid-Term Project/channel_profiles/cs_03_trimmed_plot.png\n",
            "Figure saved: /content/drive/MyDrive/Scientific ML Project/Mid-Term Project/channel_profiles/cs_04_trimmed_plot.png\n",
            "Saved figure for cross section 4: /content/drive/MyDrive/Scientific ML Project/Mid-Term Project/channel_profiles/cs_04_trimmed_plot.png\n",
            "Figure saved: /content/drive/MyDrive/Scientific ML Project/Mid-Term Project/channel_profiles/cs_05_trimmed_plot.png\n",
            "Saved figure for cross section 5: /content/drive/MyDrive/Scientific ML Project/Mid-Term Project/channel_profiles/cs_05_trimmed_plot.png\n",
            "Figure saved: /content/drive/MyDrive/Scientific ML Project/Mid-Term Project/channel_profiles/cs_06_trimmed_plot.png\n",
            "Saved figure for cross section 6: /content/drive/MyDrive/Scientific ML Project/Mid-Term Project/channel_profiles/cs_06_trimmed_plot.png\n",
            "Figure saved: /content/drive/MyDrive/Scientific ML Project/Mid-Term Project/channel_profiles/cs_07_trimmed_plot.png\n",
            "Saved figure for cross section 7: /content/drive/MyDrive/Scientific ML Project/Mid-Term Project/channel_profiles/cs_07_trimmed_plot.png\n",
            "Figure saved: /content/drive/MyDrive/Scientific ML Project/Mid-Term Project/channel_profiles/cs_08_trimmed_plot.png\n",
            "Saved figure for cross section 8: /content/drive/MyDrive/Scientific ML Project/Mid-Term Project/channel_profiles/cs_08_trimmed_plot.png\n",
            "Figure saved: /content/drive/MyDrive/Scientific ML Project/Mid-Term Project/channel_profiles/cs_09_trimmed_plot.png\n",
            "Saved figure for cross section 9: /content/drive/MyDrive/Scientific ML Project/Mid-Term Project/channel_profiles/cs_09_trimmed_plot.png\n",
            "Figure saved: /content/drive/MyDrive/Scientific ML Project/Mid-Term Project/channel_profiles/cs_10_trimmed_plot.png\n",
            "Saved figure for cross section 10: /content/drive/MyDrive/Scientific ML Project/Mid-Term Project/channel_profiles/cs_10_trimmed_plot.png\n",
            "Figure saved: /content/drive/MyDrive/Scientific ML Project/Mid-Term Project/channel_profiles/cs_11_trimmed_plot.png\n",
            "Saved figure for cross section 11: /content/drive/MyDrive/Scientific ML Project/Mid-Term Project/channel_profiles/cs_11_trimmed_plot.png\n",
            "Figure saved: /content/drive/MyDrive/Scientific ML Project/Mid-Term Project/channel_profiles/cs_12_trimmed_plot.png\n",
            "Saved figure for cross section 12: /content/drive/MyDrive/Scientific ML Project/Mid-Term Project/channel_profiles/cs_12_trimmed_plot.png\n",
            "Figure saved: /content/drive/MyDrive/Scientific ML Project/Mid-Term Project/channel_profiles/cs_13_trimmed_plot.png\n",
            "Saved figure for cross section 13: /content/drive/MyDrive/Scientific ML Project/Mid-Term Project/channel_profiles/cs_13_trimmed_plot.png\n"
          ]
        }
      ]
    }
  ]
}